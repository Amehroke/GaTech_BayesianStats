{
 "cells": [
  {
   "cell_type": "markdown",
   "metadata": {},
   "source": [
    "# Chapter 1 (Introduction)"
   ]
  },
  {
   "cell_type": "markdown",
   "metadata": {},
   "source": [
    "## What is Statistics?\n",
    "\n",
    "Statistics is a science that helps us design experiments, collect data, summarize it, and make inferences and decisions in the presence of uncertainty."
   ]
  },
  {
   "cell_type": "markdown",
   "metadata": {},
   "source": [
    "## Data collection can be done through different study designs\n",
    "- **Retrospective studies** (using historical data),\n",
    "- **Observational studies:** (monitoring real-time processes)\n",
    "- **designed studies** (where researchers control variables to establish cause-and-effect relationships)."
   ]
  },
  {
   "cell_type": "markdown",
   "metadata": {},
   "source": [
    "## Examples of Statistical Applications:\n",
    "\n",
    "- **Ohm’s Law Experiment:** In this example, a student measures the relationship between voltage, resistance, and current in an electrical circuit. The population is a hypothetical set of all possible current measurements, and the sample consists of observed measurements.\n",
    "\n",
    "- **Cell Count Comparison:** In a laboratory experiment, automated and manual counts of cells are compared to assess the accuracy of automated methods. Statistical analysis, like confidence intervals, is used to make inferences about the accuracy of the methods.\n",
    "\n",
    "- **Rana Pipiens Muscle Study:** This experiment involves modeling the force exerted by muscle as it is stretched. The goal is to establish a statistical model that describes the relationship between muscle length and force, helping to identify how various factors affect the muscle's performance.\n",
    "\n",
    "- **Polio Vaccine Trial:** This famous study assessed the effectiveness of the Salk polio vaccine by comparing outcomes (paralytic polio) in two groups: those who received the vaccine and those who received a placebo. Randomization ensured that the sample was representative and that the results could be generalized to the larger population."
   ]
  },
  {
   "cell_type": "markdown",
   "metadata": {},
   "source": [
    "## Definitions\n",
    "\n",
    "- Attribute: Property of interest (quantitative or qualitative).\n",
    "- Population: The entire group being studied.\n",
    "- Sample: A subset of the population.\n",
    "- Data: Observed values recorded from the sample.\n",
    "- Statistical Model: A mathematical representation of population attributes, accounting for uncertainty.\n",
    "- Population Parameter: are the components in the model that quantify the population's characteristics (like means, variances, etc.)\n",
    "\n"
   ]
  },
  {
   "cell_type": "markdown",
   "metadata": {},
   "source": [
    "# Chapter 2 (Properties of Statistical Models)"
   ]
  },
  {
   "cell_type": "markdown",
   "metadata": {},
   "source": [
    "In this section we will analyze data derived from an experiment."
   ]
  }
 ],
 "metadata": {
  "language_info": {
   "name": "python"
  }
 },
 "nbformat": 4,
 "nbformat_minor": 2
}
