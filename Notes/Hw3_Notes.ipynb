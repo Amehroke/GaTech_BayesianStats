{
 "cells": [
  {
   "cell_type": "markdown",
   "metadata": {},
   "source": [
    "### **Relevant Chapters for Homework 3**\n",
    "---\n",
    "### **Final Breakdown by Concept**\n",
    "| **Concept** | **Relevant Chapters** |\n",
    "|------------|----------------------|\n",
    "| Bayesian estimation for Poisson | 5.5.4, 7.2, 7.4.2, 8.2, 8.3 |\n",
    "| Credible sets (equitailed & HPD) | 8.7 |\n",
    "| MAP estimator | 7.2, 8.4 |\n",
    "| Bayesian hypothesis testing | 9.3, 9.8 |\n",
    "| Bayes factor & posterior odds | 8.8, 9.3 |\n",
    "| Pareto prior & posterior updates | 5.5.10, 8.3 |\n",
    "| Parameter transformations | 5.7 |\n",
    "| Jeffreys prior for Maxwell | 7.2, 8.3 | "
   ]
  }
 ],
 "metadata": {
  "language_info": {
   "name": "python"
  }
 },
 "nbformat": 4,
 "nbformat_minor": 2
}
