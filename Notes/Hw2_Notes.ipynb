{
 "cells": [
  {
   "cell_type": "markdown",
   "metadata": {},
   "source": [
    "# Chapter 4 Introduction to Diagnostic Testing Metrics/ meterics for Model Performance:\n",
    "\n"
   ]
  },
  {
   "cell_type": "markdown",
   "metadata": {},
   "source": [
    "### Many students and professionals misunderstand test precision metrics (e.g., confusing test error rates with accuracy).\n",
    "- Example: Casscells et al. (1978) highlighted that most participants incorrectly interpreted the PPV of a diagnostic test with 1/1000 disease prevalence and 5% false positive rate. Correct answer: ~2%; common incorrect response: 95%.\n",
    "\n",
    "- If a model says a person has a disease, think of it as the prediction says the person has the disease, not that the person has the disease. It sounds weird, but what it is saying think of the prediction as a metric not Truth (Ground Truth). "
   ]
  }
 ],
 "metadata": {
  "language_info": {
   "name": "python"
  }
 },
 "nbformat": 4,
 "nbformat_minor": 2
}
