{
 "cells": [
  {
   "cell_type": "markdown",
   "metadata": {},
   "source": [
    "# Problem 1. \n",
    "### Consider the following Bayesian model (where the parameters are N(mean,variance)):"
   ]
  },
  {
   "cell_type": "markdown",
   "metadata": {},
   "source": [
    "### 1. Find the posterior distribution of β."
   ]
  },
  {
   "cell_type": "markdown",
   "metadata": {},
   "source": [
    "Using Bayes' theorem:\n",
    "\n",
    "1. **Likelihood Function**:  \n",
    "   $$\n",
    "   p(y | \\beta) = \\prod_{i=1}^{n} \\frac{1}{\\sqrt{2\\pi\\sigma^2}} \\exp \\left( -\\frac{(y_i - \\beta x_i)^2}{2\\sigma^2} \\right)\n",
    "   $$\n",
    "\n",
    "2. **Prior Distribution**:  \n",
    "   $$\n",
    "   p(\\beta) = \\frac{1}{\\sqrt{2\\pi\\tau^2}} \\exp \\left( -\\frac{(\\beta - \\beta_0)^2}{2\\tau^2} \\right)\n",
    "   $$\n",
    "\n",
    "**Posterior Disribution Calculation**:  \n",
    "\n",
    "  - The exponent terms in the likelihood sum up:\n",
    "    $$\n",
    "    -\\frac{1}{2\\sigma^2} \\sum_{i=1}^{n} (y_i - \\beta x_i)^2\n",
    "    $$\n",
    "\n",
    "  - Expanding the term:\n",
    "    $$\n",
    "    -\\frac{1}{2\\sigma^2} \\sum_{i=1}^{n} (y_i^2 - 2\\beta x_i y_i + \\beta^2 x_i^2)\n",
    "    $$\n",
    "\n",
    "  - Adding the prior exponent:\n",
    "    $$\n",
    "    -\\frac{1}{2\\tau^2} (\\beta - \\beta_0)^2\n",
    "    $$\n",
    "\n",
    "  - Combining terms that contain (β):\n",
    "    $$\n",
    "    -\\frac{1}{2} \\left( \\frac{\\sum x_i^2}{\\sigma^2} + \\frac{1}{\\tau^2} \\right) \\beta^2 + \\left( \\frac{\\sum x_i y_i}{\\sigma^2} + \\frac{\\beta_0}{\\tau^2} \\right) \\beta\n",
    "    $$\n",
    "\n",
    "  - Idenitifying the posterior mean and variance:\n",
    "    $$\n",
    "    \\tau_n^2 = \\left( \\frac{\\sum x_i^2}{\\sigma^2} + \\frac{1}{\\tau^2} \\right)^{-1}\n",
    "    $$\n",
    "\n",
    "    $$\n",
    "    \\beta_n = \\tau_n^2 \\left( \\frac{\\sum x_i y_i}{\\sigma^2} + \\frac{\\beta_0}{\\tau^2} \\right)\n",
    "    $$\n",
    "\n",
    "   The posterior distribution of (β) is:\n",
    "   $$\n",
    "   \\beta | y \\sim N(\\beta_n, \\tau_n^2)\n",
    "   $$\n",
    "   $$\n",
    "   \\tau_n^2 = \\left( \\frac{\\sum x_i^2}{\\sigma^2} + \\frac{1}{\\tau^2} \\right)^{-1}\n",
    "   $$\n",
    "   $$\n",
    "   \\beta_n = \\tau_n^2 \\left( \\frac{\\sum x_i y_i}{\\sigma^2} + \\frac{\\beta_0}{\\tau^2} \\right).\n",
    "   $$"
   ]
  },
  {
   "cell_type": "markdown",
   "metadata": {},
   "source": [
    "### 2. Before seeing the data, an expert believes that the true value of β should be around 1 Furthermore, he feels that it will be between 0.8 and 1.2 with 95% confidence. Use this information to choose values for β_0 and τ."
   ]
  },
  {
   "cell_type": "markdown",
   "metadata": {},
   "source": [
    "The expert believes that (β) is around 1, so we set:\n",
    "$$\n",
    "   \\beta_0 = 1\n",
    "$$\n",
    "\n",
    "**Expert's prior confidence interval**:  \n",
    "The expert is 95% confident that (β) lies between 0.8 and 1.2. For a normal prior distribution \\(N(β_0, 𝛕^2)\\), the 95% confidence interval is given by:\n",
    "$$\n",
    "   \\beta_0 \\pm 1.96 \\tau\n",
    "$$\n",
    "The value 1.96 is derived from looking at the Z-table \n",
    "\n",
    "$$\n",
    "   1 \\pm 1.96 \\tau = (0.8, 1.2)\n",
    "$$\n",
    "\n",
    "**Solving for \\(\\tau\\)**:  \n",
    "$$\n",
    "1.2 = 1 + 1.96\\tau\n",
    "$$\n",
    "$$\n",
    "0.8 = 1 - 1.96\\tau\n",
    "$$\n",
    "\n",
    "Solving for \\(\\tau\\):\n",
    "$$\n",
    "\\tau = \\frac{1.2 - 1}{1.96} = \\frac{1 - 0.8}{1.96} = \\frac{0.2}{1.96} \\approx 0.102\n",
    "$$\n",
    "\n",
    "**Final Answer:**:  \n",
    "$$\n",
    "   \\beta_0 = 1, \\quad \\tau \\approx 0.102\n",
    "$$"
   ]
  },
  {
   "cell_type": "markdown",
   "metadata": {},
   "source": [
    "### 3. Suppose that we obtained the data (given in (x,y) pairs): (10,10.5), (12,12), and (15,16). Then, find the posterior mean and the 95% HPD credible interval for β. (Assume σ2 = 1)."
   ]
  },
  {
   "cell_type": "markdown",
   "metadata": {},
   "source": [
    "Given the data points:  \n",
    "$$\n",
    "(10,10.5), (12,12), (15,16)\n",
    "$$\n",
    "and assuming \\(𝜎^2 = 1\\), we compute the posterior mean and the 95% HPD credible interval for \\(β).\n",
    "\n",
    "**Step 1: Compute Sufficient Statistics**\n",
    "First, we calculate:\n",
    "\n",
    "$$\n",
    "\\sum x_i = 10 + 12 + 15 = 37\n",
    "$$\n",
    "$$\n",
    "\\sum y_i = 10.5 + 12 + 16 = 38.5\n",
    "$$\n",
    "$$\n",
    "\\sum x_i^2 = 10^2 + 12^2 + 15^2 = 100 + 144 + 225 = 469\n",
    "$$\n",
    "$$\n",
    "\\sum x_i y_i = (10 \\times 10.5) + (12 \\times 12) + (15 \\times 16)\n",
    "$$\n",
    "$$\n",
    "= 105 + 144 + 240 = 489\n",
    "$$\n",
    "\n",
    "**Step 2: Compute Posterior Variance**\n",
    "The posterior variance is given by:\n",
    "\n",
    "$$\n",
    "\\tau_n^2 = \\left( \\frac{\\sum x_i^2}{\\sigma^2} + \\frac{1}{\\tau^2} \\right)^{-1}\n",
    "$$\n",
    "\n",
    "Substituting \\(𝜎^2 = 1\\) and \\(\\tau^2 = 0.102^2 = 0.0104\\):\n",
    "\n",
    "$$\n",
    "\\tau_n^2 = \\left( \\frac{469}{1} + \\frac{1}{0.0104} \\right)^{-1}\n",
    "$$\n",
    "\n",
    "$$\n",
    "= \\left( 469 + 96.15 \\right)^{-1}\n",
    "$$\n",
    "\n",
    "$$\n",
    "= \\left( 565.15 \\right)^{-1}\n",
    "$$\n",
    "\n",
    "$$\n",
    "\\approx 0.00177\n",
    "$$\n",
    "\n",
    "**Step 3: Compute Posterior Mean**\n",
    "The posterior mean is:\n",
    "\n",
    "$$\n",
    "\\beta_n = \\tau_n^2 \\left( \\frac{\\sum x_i y_i}{\\sigma^2} + \\frac{\\beta_0}{\\tau^2} \\right)\n",
    "$$\n",
    "\n",
    "Substituting values:\n",
    "\n",
    "$$\n",
    "\\beta_n = 0.00177 \\left( \\frac{489}{1} + \\frac{1}{0.0104} \\right)\n",
    "$$\n",
    "\n",
    "$$\n",
    "= 0.00177 \\left( 489 + 96.15 \\right)\n",
    "$$\n",
    "\n",
    "$$\n",
    "= 0.00177 \\times 585.15\n",
    "$$\n",
    "\n",
    "$$\n",
    "\\approx 1.035\n",
    "$$\n",
    "\n",
    "**Step 4: Compute 95% HPD Interval**\n",
    "Since the posterior is normal, the 95% HPD credible interval is given by:\n",
    "\n",
    "$$\n",
    "\\beta_n \\pm 1.96 \\tau_n\n",
    "$$\n",
    "\n",
    "$$\n",
    "1.035 \\pm 1.96 \\times \\sqrt{0.00177}\n",
    "$$\n",
    "\n",
    "$$\n",
    "1.035 \\pm 1.96 \\times 0.0421\n",
    "$$\n",
    "\n",
    "$$\n",
    "1.035 \\pm 0.0825\n",
    "$$\n",
    "\n",
    "$$\n",
    "(0.953, 1.118)\n",
    "$$\n",
    "\n",
    " **Final Answer:**\n",
    "$$\n",
    "\\beta_n = 1.035\n",
    "$$\n",
    "\n",
    "$$\n",
    "\\text{95\\% HPD credible interval: } (0.953, 1.118)\n",
    "$$"
   ]
  },
  {
   "cell_type": "markdown",
   "metadata": {},
   "source": [
    "### 4. A new observation is generated from y = βx+ε, where ε ∼N(0,σ2). Find the posterior distribution of the new observation (that is, the posterior predictive distribution)."
   ]
  },
  {
   "cell_type": "markdown",
   "metadata": {},
   "source": [
    "The new observation is generated as:\n",
    "\n",
    "$$\n",
    "y_{\\text{new}} = \\beta x_{\\text{new}} + \\varepsilon, \\quad \\text{where } \\varepsilon \\sim N(0, \\sigma^2)\n",
    "$$\n",
    "\n",
    "Since the posterior distribution of \\(\\beta\\) is:\n",
    "\n",
    "$$\n",
    "\\beta | y \\sim N(\\beta_n, \\tau_n^2)\n",
    "$$\n",
    "\n",
    "we substitute \\(\\beta\\) into the equation:\n",
    "\n",
    "$$\n",
    "y_{\\text{new}} | y = x_{\\text{new}} \\beta + \\varepsilon\n",
    "$$\n",
    "\n",
    "Using the hint, if \\( X ~ N(μ,𝜎^2) \\), then \\( aX + b ~ N(aμ + b, a^2𝜎^2) \\), we set:\n",
    "\n",
    "- \\( a = x_(new) \\),\n",
    "- \\( X = β ~ N(β_n, 𝛕_n^2) \\),\n",
    "- \\( b = 0 \\),\n",
    "- \\( 𝛆 ~ N(0, 𝜎^2) \\).\n",
    "\n",
    "Thus, the mean and variance transform as follows:\n",
    "\n",
    "$$\n",
    "E[y_{\\text{new}} | y] = x_{\\text{new}} E[\\beta | y] + E[\\varepsilon] = x_{\\text{new}} \\beta_n + 0 = x_{\\text{new}} \\beta_n\n",
    "$$\n",
    "\n",
    "$$\n",
    "\\text{Var}(y_{\\text{new}} | y) = \\text{Var}(x_{\\text{new}} \\beta + \\varepsilon | y)\n",
    "$$\n",
    "\n",
    "$$\n",
    "= x_{\\text{new}}^2 \\tau_n^2 + \\sigma^2\n",
    "$$\n",
    "\n",
    "Thus, the posterior predictive distribution is:\n",
    "\n",
    "$$\n",
    "y_{\\text{new}} | y \\sim N(x_{\\text{new}} \\beta_n, x_{\\text{new}}^2 \\tau_n^2 + \\sigma^2)\n",
    "$$"
   ]
  },
  {
   "cell_type": "markdown",
   "metadata": {},
   "source": [
    "# Exam Problem 2\n",
    "The following data on lifetimes are obtained from a reliability test of light bulbs (measured in days):\n",
    "$$ 924,1165,988,1925,2423,67,299,78,3813,897 $$ \n",
    "Assume that the lifetime (y) follows an exponential distribution with mean θ: yi iid∼ Exp(θ)"
   ]
  },
  {
   "cell_type": "markdown",
   "metadata": {},
   "source": [
    "### 1. Derive the Jeffreys’ prior for θ"
   ]
  },
  {
   "cell_type": "markdown",
   "metadata": {},
   "source": [
    "\n",
    "Given :\n",
    "\n",
    "$$\n",
    "f(y_i | \\theta) = \\frac{1}{\\theta} e^{-y_i / \\theta}, \\quad y_i > 0.\n",
    "$$\n",
    "\n",
    "The likelihood function for \\( n \\) independent observations is:\n",
    "\n",
    "$$\n",
    "L(\\theta) = \\prod_{i=1}^{n} \\frac{1}{\\theta} e^{-y_i / \\theta}\n",
    "$$\n",
    "\n",
    "$$\n",
    "= \\theta^{-n} e^{-\\sum y_i / \\theta}.\n",
    "$$\n",
    "\n",
    "$$\n",
    "I(\\theta) = -E \\left[ \\frac{d^2}{d\\theta^2} \\log L(\\theta) \\right].\n",
    "$$\n",
    "\n",
    "First, compute the log-likelihood:\n",
    "\n",
    "$$\n",
    "\\log L(\\theta) = -n \\log \\theta - \\frac{\\sum y_i}{\\theta}.\n",
    "$$\n",
    "\n",
    "Compute the first derivative:\n",
    "\n",
    "$$\n",
    "\\frac{d}{d\\theta} \\log L(\\theta) = -\\frac{n}{\\theta} + \\frac{\\sum y_i}{\\theta^2}.\n",
    "$$\n",
    "\n",
    "Compute the second derivative:\n",
    "\n",
    "$$\n",
    "\\frac{d^2}{d\\theta^2} \\log L(\\theta) = \\frac{n}{\\theta^2} - \\frac{2\\sum y_i}{\\theta^3}.\n",
    "$$\n",
    "\n",
    "$$\n",
    "E \\left[ \\frac{d^2}{d\\theta^2} \\log L(\\theta) \\right] = \\frac{n}{\\theta^2} - \\frac{2}{\\theta^3} E[\\sum y_i].\n",
    "$$\n",
    "\n",
    "Since for an exponential distribution, \\( E[y_i] = Θ \\), we get:\n",
    "\n",
    "$$\n",
    "E[\\sum y_i] = n\\theta.\n",
    "$$\n",
    "\n",
    "$$\n",
    "I(\\theta) = \\frac{n}{\\theta^2}.\n",
    "$$ \n",
    "Jeffreys' prior is given by:\n",
    "\n",
    "$$\n",
    "p(\\theta) \\propto \\sqrt{I(\\theta)}.\n",
    "$$\n",
    "\n",
    "Substituting \\( I(Θ) \\):\n",
    "\n",
    "$$\n",
    "p(\\theta) \\propto \\sqrt{\\frac{n}{\\theta^2}}.\n",
    "$$\n",
    "\n",
    "Since \\( n \\) is a constant, this simplifies to:\n",
    "\n",
    "$$\n",
    "p(\\theta) \\propto \\frac{1}{\\theta}.\n",
    "$$\n",
    "\n",
    "**Final Answer**:  \n",
    "The Jeffreys’ prior for \\(Θ\\) is:\n",
    "\n",
    "$$\n",
    "p(\\theta) \\propto \\frac{1}{\\theta}, \\quad \\theta > 0.\n",
    "$$\n",
    "\n",
    "This corresponds to a **Improper Prior** that is the standard Jeffreys’ prior for a scale parameter."
   ]
  },
  {
   "cell_type": "markdown",
   "metadata": {},
   "source": [
    "### 2. Under Jeffreys’ prior, estimate the posterior mean time to failure for the light bulbs and its 95% HPD credible interval"
   ]
  },
  {
   "cell_type": "markdown",
   "metadata": {},
   "source": [
    "For an exponential distribution, the likelhood function given the data \\( y_1, y_2, ..., y_n \\) is:\n",
    "\n",
    "$$\n",
    "L(\\theta | y) = \\prod_{i=1}^{n} \\frac{1}{\\theta} e^{-y_i/\\theta}\n",
    "$$\n",
    "\n",
    "$$\n",
    "= \\theta^{-n} e^{-\\sum y_i / \\theta}\n",
    "$$\n",
    "\n",
    "Using Bayes theorem:\n",
    "\n",
    "$$\n",
    "\\pi(\\theta | y) \\propto L(\\theta | y) \\pi_J(\\theta)\n",
    "$$\n",
    "\n",
    "Subsitituting Jeffreys’ prior:\n",
    "\n",
    "$$\n",
    "\\pi(\\theta | y) \\propto \\theta^{-n} e^{-\\sum y_i / \\theta} \\cdot \\frac{1}{\\theta}\n",
    "$$\n",
    "\n",
    "$$\n",
    "= \\theta^{-(n+1)} e^{-\\sum y_i / \\theta}\n",
    "$$\n",
    "\n",
    "which is recognized as **Inverse Gamma** distribution:\n",
    "\n",
    "$$\n",
    "\\theta | y \\sim \\text{Inv-Gamma}(n, S)\n",
    "$$\n",
    "\n",
    "where \\( S = \\sum y_i \\).\n",
    "\n",
    "The posterior mean of an **Inv-Gamma(\\(n, S\\))** distribution is:\n",
    "\n",
    "$$\n",
    "E[\\theta | y] = \\frac{S}{n-1}, \\quad \\text{for } n > 1\n",
    "$$\n",
    "\n",
    "The 95% (HPD) credible interval is obtained from the quantiles of the **Inverse Gamma** distribution."
   ]
  },
  {
   "cell_type": "code",
   "execution_count": null,
   "metadata": {},
   "outputs": [
    {
     "data": {
      "text/plain": [
       "(1397.6666666666667, (736.2683472343435, 2623.145024749545))"
      ]
     },
     "execution_count": 1,
     "metadata": {},
     "output_type": "execute_result"
    }
   ],
   "source": [
    "import numpy as np\n",
    "import scipy.stats as stats\n",
    "\n",
    "# Given  data\n",
    "data = np.array([924, 1165, 988, 1925, 2423, 67, 299, 78, 3813, 897])\n",
    "\n",
    "n = len(data)\n",
    "S = np.sum(data)\n",
    "\n",
    "# print(n, S)\n",
    "\n",
    "posterior_mean = S / (n - 1)\n",
    "\n",
    "alpha = n \n",
    "beta = S  \n",
    "\n",
    "# Compute the 2.5th and 97.5th percentiles\n",
    "hpd_lower = stats.invgamma.ppf(0.025, alpha, scale=beta)\n",
    "# print(hpd_lower)\n",
    "hpd_upper = stats.invgamma.ppf(0.975, alpha, scale=beta)\n",
    "# print(hpd_upper)\n",
    "\n",
    "posterior_mean, (hpd_lower, hpd_upper)\n"
   ]
  },
  {
   "cell_type": "markdown",
   "metadata": {},
   "source": [
    "**Posterior Mean of Time to Failure**:  \n",
    "$$\n",
    "E[\\theta | y] = 1397.67 \\text{ days}\n",
    "$$\n",
    "\n",
    "**95% HPD Criedible Interval**:  \n",
    "$$\n",
    "(736.27, 2623.15) \\text{ days}\n",
    "$$\n",
    "\n",
    "So based on our calculations, we estimate the average bulb lasts **about 1398 days**, with a **95% credible interval** ranging from **736.27 days to 2623.15 days**."
   ]
  },
  {
   "cell_type": "markdown",
   "metadata": {},
   "source": [
    "### 3. The company that produces the light bulbs claims that their product will survive for at least two years. Assuming that the posterior mean of θ computed in the previous question is the true value of θ , what fraction of the light bulbs are likely to fail before two years?"
   ]
  },
  {
   "cell_type": "markdown",
   "metadata": {},
   "source": [
    "$$\n",
    "p(y) = \\frac{1}{\\theta} e^{-y/\\theta}, \\quad y > 0\n",
    "$$\n",
    "\n",
    "The probibility that a light bulb fails before two years (730 days) is given by the Exponential distribution:\n",
    "\n",
    "$$\n",
    "P(Y < 730) = 1 - e^{-730 / \\theta}\n",
    "$$\n",
    "\n",
    "From problem 2, we found the posterior mean estimat:\n",
    "\n",
    "$$\n",
    "\\hat{\\theta} = 1397.67 \\text{ days}\n",
    "$$\n",
    "\n",
    "Subsituiting into the formula:\n",
    "\n",
    "$$\n",
    "P(Y < 730) = 1 - e^{-730 / 1397.67}\n",
    "$$\n",
    "\n",
    "$$\n",
    "P(Y < 730) \\approx 1 - e^{-0.5223} \\approx 1 - 0.593 \\approx 0.407\n",
    "$$\n",
    "\n",
    "**Final Answer:**\n",
    "The percentage of light bulbs to fial before two years is **\\( 40.7\\% \\)**."
   ]
  },
  {
   "cell_type": "markdown",
   "metadata": {},
   "source": [
    "# Problem 3. \n",
    "Consider the following Bayesian hierarchical model: yi|θ ∼iid N(θ,1), i = 1,...,10, θ|τ2 ∼ N(0,τ2), τ2 ∼ Inv −Gamma(1,2). \n",
    "\n",
    "The following data were observed: y = {7.54,8.00,9.27,9.20,5.96,8.17,7.63,9.36,8.61,10.10}. \n",
    "\n",
    "Use Gibbs sampling to sample from the posterior distribution of θ (generate 100,000 samples and use 1,000 samples as burn-in) and answer the following:\n",
    "\n",
    "Note 1: the density of an Inv −Gamma(a,b) is given by p(x) = ba Γ(a) x−a−1e−b/x.\n",
    "\n",
    "Note 2: τ2 here represents variance, not precision."
   ]
  },
  {
   "cell_type": "markdown",
   "metadata": {},
   "source": [
    "### 1. Plot the posterior density of θ."
   ]
  },
  {
   "cell_type": "code",
   "execution_count": 8,
   "metadata": {},
   "outputs": [
    {
     "data": {
      "image/png": "[encoded data removed]",
      "text/plain": [
       "<Figure size 640x480 with 1 Axes>"
      ]
     },
     "metadata": {},
     "output_type": "display_data"
    }
   ],
   "source": [
    "import numpy as np\n",
    "import matplotlib.pyplot as plt\n",
    "\n",
    "# Given data\n",
    "y = np.array([7.54, 8.00, 9.27, 9.20, 5.96, 8.17, 7.63, 9.36, 8.61, 10.10])\n",
    "n = len(y)\n",
    "y_bar = np.mean(y)\n",
    "\n",
    "a, b = 1, 2  \n",
    "iterations = 100000\n",
    "burn_in = 1000\n",
    "\n",
    "theta = y_bar\n",
    "tau2 = 1.0\n",
    "\n",
    "theta_samples = []\n",
    "tau2_samples = []\n",
    "\n",
    "# Gibbs Sampling\n",
    "for i in range(iterations):\n",
    "\n",
    "    sigma_n2 = tau2 / (1 + n * tau2)\n",
    "    mu_n = sigma_n2 * (n * y_bar)\n",
    "    theta = np.random.normal(mu_n, np.sqrt(sigma_n2))\n",
    "    \n",
    "    a_n = a + n / 2\n",
    "    b_n = b + 0.5 * np.sum((y - theta)**2)\n",
    "    tau2 = 1 / np.random.gamma(a_n, 1 / b_n)\n",
    "    \n",
    "    theta_samples.append(theta)\n",
    "    tau2_samples.append(tau2)\n",
    "\n",
    "sampled_thetas = np.array(theta_samples[burn_in:])\n",
    "\n",
    "#Plot posterior \n",
    "plt.hist(theta_samples, bins=50, density=True, color='blue', alpha=0.6, edgecolor='black')\n",
    "plt.xlabel(r'$\\theta$')\n",
    "plt.ylabel('Density')\n",
    "plt.title('Posterior Density of θ')\n",
    "plt.show()"
   ]
  },
  {
   "cell_type": "markdown",
   "metadata": {},
   "source": [
    "### 2. Find the posterior mean of θ."
   ]
  },
  {
   "cell_type": "code",
   "execution_count": null,
   "metadata": {},
   "outputs": [
    {
     "data": {
      "text/plain": [
       "7.909490261470725"
      ]
     },
     "execution_count": 3,
     "metadata": {},
     "output_type": "execute_result"
    }
   ],
   "source": [
    "# if len(sampled_thetas) == 0:\n",
    "#     print(\"No samples were generated.\")\n",
    "\n",
    "theta_avg = np.mean(sampled_thetas)\n",
    "theta_avg"
   ]
  },
  {
   "cell_type": "markdown",
   "metadata": {},
   "source": [
    "### 3. Find 95% HPD credible interval of θ."
   ]
  },
  {
   "cell_type": "code",
   "execution_count": null,
   "metadata": {},
   "outputs": [
    {
     "data": {
      "text/plain": [
       "(7.909490261470725, array([7.18213089, 8.61238562]))"
      ]
     },
     "execution_count": 7,
     "metadata": {},
     "output_type": "execute_result"
    }
   ],
   "source": [
    "sorted_thetas = np.sort(sampled_thetas)\n",
    "cred_int_manual = (sorted_thetas[int(0.025 * len(sorted_thetas))], \n",
    "                   sorted_thetas[int(0.975 * len(sorted_thetas))])\n",
    "\n",
    "cred_int = np.percentile(sampled_thetas, [2.5, 97.5])\n",
    "\n",
    "\n",
    "theta_avg, cred_int\n"
   ]
  }
 ],
 "metadata": {
  "kernelspec": {
   "display_name": "Python 3",
   "language": "python",
   "name": "python3"
  },
  "language_info": {
   "codemirror_mode": {
    "name": "ipython",
    "version": 3
   },
   "file_extension": ".py",
   "mimetype": "text/x-python",
   "name": "python",
   "nbconvert_exporter": "python",
   "pygments_lexer": "ipython3",
   "version": "3.11.10"
  }
 },
 "nbformat": 4,
 "nbformat_minor": 2
}
